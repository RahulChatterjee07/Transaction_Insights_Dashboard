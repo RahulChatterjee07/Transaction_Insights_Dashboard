{
 "cells": [
  {
   "cell_type": "markdown",
   "id": "35a79276",
   "metadata": {},
   "source": [
    "# 📊 Transaction Intelligence Pipeline Demo"
   ]
  },
  {
   "cell_type": "code",
   "execution_count": null,
   "id": "446dd96e",
   "metadata": {},
   "outputs": [],
   "source": [
    "# Load a sample document (receipt)\n",
    "with open(\"../data/raw_documents/receipt.txt\") as f:\n",
    "    text = f.read()\n",
    "\n",
    "print(\"📄 Sample Receipt Document:\")\n",
    "print(\"=\" * 50)\n",
    "print(text)\n"
   ]
  },
  {
   "cell_type": "code",
   "execution_count": null,
   "id": "1e46bcf3",
   "metadata": {},
   "outputs": [],
   "source": [
    "from etl_pipeline.parse_fields import extract_fields\n",
    "\n",
    "fields = extract_fields(text)\n",
    "\n",
    "print(\"🧾 Extracted Fields:\")\n",
    "for k, v in fields.items():\n",
    "    print(f\"{k}: {v}\")\n"
   ]
  },
  {
   "cell_type": "code",
   "execution_count": null,
   "id": "0a9cccdc",
   "metadata": {},
   "outputs": [],
   "source": [
    "# Mock prediction from trained classifier\n",
    "sample_text = \"Uber receipt from March 2024 total $35.70\"\n",
    "predicted_label = \"Receipt\"\n",
    "print(\"📂 Document classified as:\", predicted_label)\n"
   ]
  },
  {
   "cell_type": "code",
   "execution_count": null,
   "id": "0fc66af3",
   "metadata": {},
   "outputs": [],
   "source": [
    "import pandas as pd\n",
    "import matplotlib.pyplot as plt\n",
    "\n",
    "# Simulate daily transaction counts\n",
    "df = pd.DataFrame({\n",
    "    \"date\": pd.date_range(\"2024-03-01\", periods=14),\n",
    "    \"count\": [200, 190, 210, 220, 180, 250, 230, 210, 205, 215, 220, 230, 240, 235]\n",
    "}).set_index(\"date\")\n",
    "\n",
    "df.plot(title=\"📈 Daily Transactions (Simulated)\")\n",
    "plt.ylabel(\"Transaction Count\")\n",
    "plt.grid(True)\n",
    "plt.tight_layout()\n",
    "plt.show()\n"
   ]
  },
  {
   "cell_type": "markdown",
   "id": "e396ad37",
   "metadata": {},
   "source": [
    "\n",
    "---\n",
    "\n",
    "## ✅ Summary\n",
    "\n",
    "- Parsed a raw receipt for vendor, date, and total\n",
    "- Simulated document classification using ML\n",
    "- Visualized historical transaction volume\n",
    "- Ready for further analytics like fraud risk scoring, time series modeling, and dashboarding!\n"
   ]
  }
 ],
 "metadata": {},
 "nbformat": 4,
 "nbformat_minor": 5
}
